{
  "cells": [
    {
      "cell_type": "markdown",
      "metadata": {
        "id": "view-in-github",
        "colab_type": "text"
      },
      "source": [
        "<a href=\"https://colab.research.google.com/github/AmiraAmr99/PySpark/blob/main/Amira_Amr_Classification_in_PySparks_MLlib_Project_.ipynb\" target=\"_parent\"><img src=\"https://colab.research.google.com/assets/colab-badge.svg\" alt=\"Open In Colab\"/></a>"
      ]
    },
    {
      "cell_type": "markdown",
      "metadata": {
        "id": "6SDER8yE5HIh"
      },
      "source": [
        "# Classification in PySpark's MLlib Project Solution\n",
        "\n",
        "### Genre classification\n",
        "Now it's time to leverage what we learned in the lectures to a REAL classification project! Have you ever wondered what makes us, humans, able to tell apart two songs of different genres? How we do we inherenly know the difference between a pop song and heavy metal? This type of classifcation may seem easy for us, but it's a very difficult challenge for a computer to do. So the question is, could an automatic genre classifcation model be possible? \n",
        "\n",
        "For this project we will be classifying songs based on a number of characteristics into a set of 23 electronic genres. This technology could be used by an application like Pandora to recommend songs to users or just create meaningful channels. Super fun!\n",
        "\n",
        "### Dataset\n",
        "*beatsdataset.csv*\n",
        "Each row is an electronic music song. The dataset contains 100 song for each genre among 23 electronic music genres, they were the top (100) songs of their genres on November 2016. The 71 columns are audio features extracted of a two random minutes sample of the file audio. These features have been extracted using pyAudioAnalysis (https://github.com/tyiannak/pyAudioAnalysis).\n",
        "\n",
        "### Your task\n",
        "Create an algorithm that classifies songs into the 23 genres provided. Test out several different models and select the highest performing one. Also play around with feature selection methods and finally try to make a recommendation to a user.  \n",
        "\n",
        "For the feature selection aspect of this project, you may need to get a bit creative if you want to select features from a non-tree algorithm. I did not go over this aspect of PySpark intentionally in the previous lectures to give you chance to get used to researching the PySpark documentation page. Here is the link to the Feature Selectors section of the documentation that just might come in handy: https://spark.apache.org/docs/latest/ml-features.html#feature-selectors\n",
        "\n",
        "Good luck! Have fun :)\n",
        "\n",
        "### Source\n",
        "https://www.kaggle.com/caparrini/beatsdataset"
      ]
    },
    {
      "cell_type": "code",
      "execution_count": null,
      "metadata": {
        "id": "cJfHswo75HIn",
        "colab": {
          "base_uri": "https://localhost:8080/"
        },
        "outputId": "2e32f339-2c30-4806-993c-1f64441d44b3"
      },
      "outputs": [
        {
          "output_type": "stream",
          "name": "stdout",
          "text": [
            "Mounted at /content/drive/\n"
          ]
        }
      ],
      "source": [
        "from google.colab import drive\n",
        "drive.mount('/content/drive/', force_remount=True)"
      ]
    },
    {
      "cell_type": "code",
      "source": [
        "# Install pyspark\n",
        "!pip install pyspark\n",
        "# import findspark\n",
        "# findspark.init()\n",
        "import os\n",
        "import pyspark # only run after findspark.init()\n",
        "from pyspark.sql import SparkSession\n",
        "# May take awhile locally\n",
        "spark = SparkSession.builder.appName(\"SparkML\").getOrCreate()\n",
        "\n",
        "cores = spark._jsc.sc().getExecutorMemoryStatus().keySet().size()\n",
        "print(\"You are working with\", cores, \"core(s)\")\n",
        "spark"
      ],
      "metadata": {
        "colab": {
          "base_uri": "https://localhost:8080/",
          "height": 497
        },
        "id": "IKmxFvXH6EsR",
        "outputId": "856a7ba9-c02f-4ad7-bd6f-13037d85c006"
      },
      "execution_count": null,
      "outputs": [
        {
          "output_type": "stream",
          "name": "stdout",
          "text": [
            "Looking in indexes: https://pypi.org/simple, https://us-python.pkg.dev/colab-wheels/public/simple/\n",
            "Collecting pyspark\n",
            "  Downloading pyspark-3.3.2.tar.gz (281.4 MB)\n",
            "\u001b[2K     \u001b[90m━━━━━━━━━━━━━━━━━━━━━━━━━━━━━━━━━━━━━━━\u001b[0m \u001b[32m281.4/281.4 MB\u001b[0m \u001b[31m3.9 MB/s\u001b[0m eta \u001b[36m0:00:00\u001b[0m\n",
            "\u001b[?25h  Preparing metadata (setup.py) ... \u001b[?25l\u001b[?25hdone\n",
            "Collecting py4j==0.10.9.5\n",
            "  Downloading py4j-0.10.9.5-py2.py3-none-any.whl (199 kB)\n",
            "\u001b[2K     \u001b[90m━━━━━━━━━━━━━━━━━━━━━━━━━━━━━━━━━━━━━━\u001b[0m \u001b[32m199.7/199.7 KB\u001b[0m \u001b[31m13.6 MB/s\u001b[0m eta \u001b[36m0:00:00\u001b[0m\n",
            "\u001b[?25hBuilding wheels for collected packages: pyspark\n",
            "  Building wheel for pyspark (setup.py) ... \u001b[?25l\u001b[?25hdone\n",
            "  Created wheel for pyspark: filename=pyspark-3.3.2-py2.py3-none-any.whl size=281824025 sha256=9912ad7d7077cc0b11df43d4b2367d0f3902b437dbf8b6b9ebc19746c0c84c5c\n",
            "  Stored in directory: /root/.cache/pip/wheels/b1/59/a0/a1a0624b5e865fd389919c1a10f53aec9b12195d6747710baf\n",
            "Successfully built pyspark\n",
            "Installing collected packages: py4j, pyspark\n",
            "Successfully installed py4j-0.10.9.5 pyspark-3.3.2\n",
            "You are working with 1 core(s)\n"
          ]
        },
        {
          "output_type": "execute_result",
          "data": {
            "text/plain": [
              "<pyspark.sql.session.SparkSession at 0x7f0894f171f0>"
            ],
            "text/html": [
              "\n",
              "            <div>\n",
              "                <p><b>SparkSession - in-memory</b></p>\n",
              "                \n",
              "        <div>\n",
              "            <p><b>SparkContext</b></p>\n",
              "\n",
              "            <p><a href=\"http://fdabc982cfa7:4040\">Spark UI</a></p>\n",
              "\n",
              "            <dl>\n",
              "              <dt>Version</dt>\n",
              "                <dd><code>v3.3.2</code></dd>\n",
              "              <dt>Master</dt>\n",
              "                <dd><code>local[*]</code></dd>\n",
              "              <dt>AppName</dt>\n",
              "                <dd><code>SparkML</code></dd>\n",
              "            </dl>\n",
              "        </div>\n",
              "        \n",
              "            </div>\n",
              "        "
            ]
          },
          "metadata": {},
          "execution_count": 2
        }
      ]
    },
    {
      "cell_type": "code",
      "source": [
        "path = '/content/drive/MyDrive/Courses/Spark/pysparkML/Datasets/'\n",
        "beats = spark.read.csv(path+'beatsdataset.csv',inferSchema=True,header=True)"
      ],
      "metadata": {
        "id": "n_J4vn2SCpfy"
      },
      "execution_count": null,
      "outputs": []
    },
    {
      "cell_type": "code",
      "source": [
        "beats.limit(2).toPandas()"
      ],
      "metadata": {
        "colab": {
          "base_uri": "https://localhost:8080/",
          "height": 223
        },
        "id": "Qh_Cmsg0GEiI",
        "outputId": "d4b512eb-ccc1-471d-86d5-472f1b545fca"
      },
      "execution_count": null,
      "outputs": [
        {
          "output_type": "execute_result",
          "data": {
            "text/plain": [
              "   _c0    1-ZCRm  2-Energym  3-EnergyEntropym  4-SpectralCentroidm  \\\n",
              "0    0  0.136440   0.088861          3.201201             0.262825   \n",
              "1    1  0.117039   0.108389          3.194001             0.247657   \n",
              "\n",
              "   5-SpectralSpreadm  6-SpectralEntropym  7-SpectralFluxm  8-SpectralRolloffm  \\\n",
              "0           0.249212            1.114423         0.007003            0.256682   \n",
              "1           0.250288            1.065668         0.005387            0.199821   \n",
              "\n",
              "   9-MFCCs1m  ...  63-ChromaVector8std  64-ChromaVector9std  \\\n",
              "0 -22.723259  ...             0.003431             0.004981   \n",
              "1 -21.775871  ...             0.004461             0.006441   \n",
              "\n",
              "   65-ChromaVector10std  66-ChromaVector11std  67-ChromaVector12std  \\\n",
              "0              0.010818              0.024001              0.005201   \n",
              "1              0.007469              0.015499              0.005589   \n",
              "\n",
              "   68-ChromaDeviationstd      69-BPM  70-BPMconf  71-BPMessentia    class  \n",
              "0               0.015056  133.333333    0.132792           128.0  BigRoom  \n",
              "1               0.019339  120.000000    0.112767           126.0  BigRoom  \n",
              "\n",
              "[2 rows x 73 columns]"
            ],
            "text/html": [
              "\n",
              "  <div id=\"df-77f637f6-f341-4613-8ddc-d41e97b43539\">\n",
              "    <div class=\"colab-df-container\">\n",
              "      <div>\n",
              "<style scoped>\n",
              "    .dataframe tbody tr th:only-of-type {\n",
              "        vertical-align: middle;\n",
              "    }\n",
              "\n",
              "    .dataframe tbody tr th {\n",
              "        vertical-align: top;\n",
              "    }\n",
              "\n",
              "    .dataframe thead th {\n",
              "        text-align: right;\n",
              "    }\n",
              "</style>\n",
              "<table border=\"1\" class=\"dataframe\">\n",
              "  <thead>\n",
              "    <tr style=\"text-align: right;\">\n",
              "      <th></th>\n",
              "      <th>_c0</th>\n",
              "      <th>1-ZCRm</th>\n",
              "      <th>2-Energym</th>\n",
              "      <th>3-EnergyEntropym</th>\n",
              "      <th>4-SpectralCentroidm</th>\n",
              "      <th>5-SpectralSpreadm</th>\n",
              "      <th>6-SpectralEntropym</th>\n",
              "      <th>7-SpectralFluxm</th>\n",
              "      <th>8-SpectralRolloffm</th>\n",
              "      <th>9-MFCCs1m</th>\n",
              "      <th>...</th>\n",
              "      <th>63-ChromaVector8std</th>\n",
              "      <th>64-ChromaVector9std</th>\n",
              "      <th>65-ChromaVector10std</th>\n",
              "      <th>66-ChromaVector11std</th>\n",
              "      <th>67-ChromaVector12std</th>\n",
              "      <th>68-ChromaDeviationstd</th>\n",
              "      <th>69-BPM</th>\n",
              "      <th>70-BPMconf</th>\n",
              "      <th>71-BPMessentia</th>\n",
              "      <th>class</th>\n",
              "    </tr>\n",
              "  </thead>\n",
              "  <tbody>\n",
              "    <tr>\n",
              "      <th>0</th>\n",
              "      <td>0</td>\n",
              "      <td>0.136440</td>\n",
              "      <td>0.088861</td>\n",
              "      <td>3.201201</td>\n",
              "      <td>0.262825</td>\n",
              "      <td>0.249212</td>\n",
              "      <td>1.114423</td>\n",
              "      <td>0.007003</td>\n",
              "      <td>0.256682</td>\n",
              "      <td>-22.723259</td>\n",
              "      <td>...</td>\n",
              "      <td>0.003431</td>\n",
              "      <td>0.004981</td>\n",
              "      <td>0.010818</td>\n",
              "      <td>0.024001</td>\n",
              "      <td>0.005201</td>\n",
              "      <td>0.015056</td>\n",
              "      <td>133.333333</td>\n",
              "      <td>0.132792</td>\n",
              "      <td>128.0</td>\n",
              "      <td>BigRoom</td>\n",
              "    </tr>\n",
              "    <tr>\n",
              "      <th>1</th>\n",
              "      <td>1</td>\n",
              "      <td>0.117039</td>\n",
              "      <td>0.108389</td>\n",
              "      <td>3.194001</td>\n",
              "      <td>0.247657</td>\n",
              "      <td>0.250288</td>\n",
              "      <td>1.065668</td>\n",
              "      <td>0.005387</td>\n",
              "      <td>0.199821</td>\n",
              "      <td>-21.775871</td>\n",
              "      <td>...</td>\n",
              "      <td>0.004461</td>\n",
              "      <td>0.006441</td>\n",
              "      <td>0.007469</td>\n",
              "      <td>0.015499</td>\n",
              "      <td>0.005589</td>\n",
              "      <td>0.019339</td>\n",
              "      <td>120.000000</td>\n",
              "      <td>0.112767</td>\n",
              "      <td>126.0</td>\n",
              "      <td>BigRoom</td>\n",
              "    </tr>\n",
              "  </tbody>\n",
              "</table>\n",
              "<p>2 rows × 73 columns</p>\n",
              "</div>\n",
              "      <button class=\"colab-df-convert\" onclick=\"convertToInteractive('df-77f637f6-f341-4613-8ddc-d41e97b43539')\"\n",
              "              title=\"Convert this dataframe to an interactive table.\"\n",
              "              style=\"display:none;\">\n",
              "        \n",
              "  <svg xmlns=\"http://www.w3.org/2000/svg\" height=\"24px\"viewBox=\"0 0 24 24\"\n",
              "       width=\"24px\">\n",
              "    <path d=\"M0 0h24v24H0V0z\" fill=\"none\"/>\n",
              "    <path d=\"M18.56 5.44l.94 2.06.94-2.06 2.06-.94-2.06-.94-.94-2.06-.94 2.06-2.06.94zm-11 1L8.5 8.5l.94-2.06 2.06-.94-2.06-.94L8.5 2.5l-.94 2.06-2.06.94zm10 10l.94 2.06.94-2.06 2.06-.94-2.06-.94-.94-2.06-.94 2.06-2.06.94z\"/><path d=\"M17.41 7.96l-1.37-1.37c-.4-.4-.92-.59-1.43-.59-.52 0-1.04.2-1.43.59L10.3 9.45l-7.72 7.72c-.78.78-.78 2.05 0 2.83L4 21.41c.39.39.9.59 1.41.59.51 0 1.02-.2 1.41-.59l7.78-7.78 2.81-2.81c.8-.78.8-2.07 0-2.86zM5.41 20L4 18.59l7.72-7.72 1.47 1.35L5.41 20z\"/>\n",
              "  </svg>\n",
              "      </button>\n",
              "      \n",
              "  <style>\n",
              "    .colab-df-container {\n",
              "      display:flex;\n",
              "      flex-wrap:wrap;\n",
              "      gap: 12px;\n",
              "    }\n",
              "\n",
              "    .colab-df-convert {\n",
              "      background-color: #E8F0FE;\n",
              "      border: none;\n",
              "      border-radius: 50%;\n",
              "      cursor: pointer;\n",
              "      display: none;\n",
              "      fill: #1967D2;\n",
              "      height: 32px;\n",
              "      padding: 0 0 0 0;\n",
              "      width: 32px;\n",
              "    }\n",
              "\n",
              "    .colab-df-convert:hover {\n",
              "      background-color: #E2EBFA;\n",
              "      box-shadow: 0px 1px 2px rgba(60, 64, 67, 0.3), 0px 1px 3px 1px rgba(60, 64, 67, 0.15);\n",
              "      fill: #174EA6;\n",
              "    }\n",
              "\n",
              "    [theme=dark] .colab-df-convert {\n",
              "      background-color: #3B4455;\n",
              "      fill: #D2E3FC;\n",
              "    }\n",
              "\n",
              "    [theme=dark] .colab-df-convert:hover {\n",
              "      background-color: #434B5C;\n",
              "      box-shadow: 0px 1px 3px 1px rgba(0, 0, 0, 0.15);\n",
              "      filter: drop-shadow(0px 1px 2px rgba(0, 0, 0, 0.3));\n",
              "      fill: #FFFFFF;\n",
              "    }\n",
              "  </style>\n",
              "\n",
              "      <script>\n",
              "        const buttonEl =\n",
              "          document.querySelector('#df-77f637f6-f341-4613-8ddc-d41e97b43539 button.colab-df-convert');\n",
              "        buttonEl.style.display =\n",
              "          google.colab.kernel.accessAllowed ? 'block' : 'none';\n",
              "\n",
              "        async function convertToInteractive(key) {\n",
              "          const element = document.querySelector('#df-77f637f6-f341-4613-8ddc-d41e97b43539');\n",
              "          const dataTable =\n",
              "            await google.colab.kernel.invokeFunction('convertToInteractive',\n",
              "                                                     [key], {});\n",
              "          if (!dataTable) return;\n",
              "\n",
              "          const docLinkHtml = 'Like what you see? Visit the ' +\n",
              "            '<a target=\"_blank\" href=https://colab.research.google.com/notebooks/data_table.ipynb>data table notebook</a>'\n",
              "            + ' to learn more about interactive tables.';\n",
              "          element.innerHTML = '';\n",
              "          dataTable['output_type'] = 'display_data';\n",
              "          await google.colab.output.renderOutput(dataTable, element);\n",
              "          const docLink = document.createElement('div');\n",
              "          docLink.innerHTML = docLinkHtml;\n",
              "          element.appendChild(docLink);\n",
              "        }\n",
              "      </script>\n",
              "    </div>\n",
              "  </div>\n",
              "  "
            ]
          },
          "metadata": {},
          "execution_count": 4
        }
      ]
    },
    {
      "cell_type": "code",
      "source": [
        "beats.printSchema()"
      ],
      "metadata": {
        "colab": {
          "base_uri": "https://localhost:8080/"
        },
        "id": "KxekQuVkGKqw",
        "outputId": "fc6b2fae-a341-44f8-a348-f5b2da022f60"
      },
      "execution_count": null,
      "outputs": [
        {
          "output_type": "stream",
          "name": "stdout",
          "text": [
            "root\n",
            " |-- _c0: integer (nullable = true)\n",
            " |-- 1-ZCRm: double (nullable = true)\n",
            " |-- 2-Energym: double (nullable = true)\n",
            " |-- 3-EnergyEntropym: double (nullable = true)\n",
            " |-- 4-SpectralCentroidm: double (nullable = true)\n",
            " |-- 5-SpectralSpreadm: double (nullable = true)\n",
            " |-- 6-SpectralEntropym: double (nullable = true)\n",
            " |-- 7-SpectralFluxm: double (nullable = true)\n",
            " |-- 8-SpectralRolloffm: double (nullable = true)\n",
            " |-- 9-MFCCs1m: double (nullable = true)\n",
            " |-- 10-MFCCs2m: double (nullable = true)\n",
            " |-- 11-MFCCs3m: double (nullable = true)\n",
            " |-- 12-MFCCs4m: double (nullable = true)\n",
            " |-- 13-MFCCs5m: double (nullable = true)\n",
            " |-- 14-MFCCs6m: double (nullable = true)\n",
            " |-- 15-MFCCs7m: double (nullable = true)\n",
            " |-- 16-MFCCs8m: double (nullable = true)\n",
            " |-- 17-MFCCs9m: double (nullable = true)\n",
            " |-- 18-MFCCs10m: double (nullable = true)\n",
            " |-- 19-MFCCs11m: double (nullable = true)\n",
            " |-- 20-MFCCs12m: double (nullable = true)\n",
            " |-- 21-MFCCs13m: double (nullable = true)\n",
            " |-- 22-ChromaVector1m: double (nullable = true)\n",
            " |-- 23-ChromaVector2m: double (nullable = true)\n",
            " |-- 24-ChromaVector3m: double (nullable = true)\n",
            " |-- 25-ChromaVector4m: double (nullable = true)\n",
            " |-- 26-ChromaVector5m: double (nullable = true)\n",
            " |-- 27-ChromaVector6m: double (nullable = true)\n",
            " |-- 28-ChromaVector7m: double (nullable = true)\n",
            " |-- 29-ChromaVector8m: double (nullable = true)\n",
            " |-- 30-ChromaVector9m: double (nullable = true)\n",
            " |-- 31-ChromaVector10m: double (nullable = true)\n",
            " |-- 32-ChromaVector11m: double (nullable = true)\n",
            " |-- 33-ChromaVector12m: double (nullable = true)\n",
            " |-- 34-ChromaDeviationm: double (nullable = true)\n",
            " |-- 35-ZCRstd: double (nullable = true)\n",
            " |-- 36-Energystd: double (nullable = true)\n",
            " |-- 37-EnergyEntropystd: double (nullable = true)\n",
            " |-- 38-SpectralCentroidstd: double (nullable = true)\n",
            " |-- 39-SpectralSpreadstd: double (nullable = true)\n",
            " |-- 40-SpectralEntropystd: double (nullable = true)\n",
            " |-- 41-SpectralFluxstd: double (nullable = true)\n",
            " |-- 42-SpectralRolloffstd: double (nullable = true)\n",
            " |-- 43-MFCCs1std: double (nullable = true)\n",
            " |-- 44-MFCCs2std: double (nullable = true)\n",
            " |-- 45-MFCCs3std: double (nullable = true)\n",
            " |-- 46-MFCCs4std: double (nullable = true)\n",
            " |-- 47-MFCCs5std: double (nullable = true)\n",
            " |-- 48-MFCCs6std: double (nullable = true)\n",
            " |-- 49-MFCCs7std: double (nullable = true)\n",
            " |-- 50-MFCCs8std: double (nullable = true)\n",
            " |-- 51-MFCCs9std: double (nullable = true)\n",
            " |-- 52-MFCCs10std: double (nullable = true)\n",
            " |-- 53-MFCCs11std: double (nullable = true)\n",
            " |-- 54-MFCCs12std: double (nullable = true)\n",
            " |-- 55-MFCCs13std: double (nullable = true)\n",
            " |-- 56-ChromaVector1std: double (nullable = true)\n",
            " |-- 57-ChromaVector2std: double (nullable = true)\n",
            " |-- 58-ChromaVector3std: double (nullable = true)\n",
            " |-- 59-ChromaVector4std: double (nullable = true)\n",
            " |-- 60-ChromaVector5std: double (nullable = true)\n",
            " |-- 61-ChromaVector6std: double (nullable = true)\n",
            " |-- 62-ChromaVector7std: double (nullable = true)\n",
            " |-- 63-ChromaVector8std: double (nullable = true)\n",
            " |-- 64-ChromaVector9std: double (nullable = true)\n",
            " |-- 65-ChromaVector10std: double (nullable = true)\n",
            " |-- 66-ChromaVector11std: double (nullable = true)\n",
            " |-- 67-ChromaVector12std: double (nullable = true)\n",
            " |-- 68-ChromaDeviationstd: double (nullable = true)\n",
            " |-- 69-BPM: double (nullable = true)\n",
            " |-- 70-BPMconf: double (nullable = true)\n",
            " |-- 71-BPMessentia: double (nullable = true)\n",
            " |-- class: string (nullable = true)\n",
            "\n"
          ]
        }
      ]
    },
    {
      "cell_type": "code",
      "source": [
        "#count of observation per each class (genre)\n",
        "beats.groupBy('class').count().show()"
      ],
      "metadata": {
        "colab": {
          "base_uri": "https://localhost:8080/"
        },
        "id": "l6j2_b-DGQny",
        "outputId": "c79a77ea-7dde-411b-d307-6f2cb2451c3c"
      },
      "execution_count": null,
      "outputs": [
        {
          "output_type": "stream",
          "name": "stdout",
          "text": [
            "+--------------------+-----+\n",
            "|               class|count|\n",
            "+--------------------+-----+\n",
            "|           PsyTrance|  100|\n",
            "|           HardDance|  100|\n",
            "|              Breaks|  100|\n",
            "|  HardcoreHardTechno|  100|\n",
            "|   IndieDanceNuDisco|  100|\n",
            "|              Trance|  100|\n",
            "|           DeepHouse|  100|\n",
            "|ElectronicaDowntempo|  100|\n",
            "|           ReggaeDub|  100|\n",
            "|             Minimal|  100|\n",
            "|         DrumAndBass|  100|\n",
            "|             Dubstep|  100|\n",
            "|             BigRoom|  100|\n",
            "|              Techno|  100|\n",
            "|               House|  100|\n",
            "|         FutureHouse|  100|\n",
            "|        ElectroHouse|  100|\n",
            "|           GlitchHop|  100|\n",
            "|           TechHouse|  100|\n",
            "|              HipHop|  100|\n",
            "+--------------------+-----+\n",
            "only showing top 20 rows\n",
            "\n"
          ]
        }
      ]
    },
    {
      "cell_type": "code",
      "source": [
        "from pyspark.sql.functions import * \n",
        "from pyspark.sql.types import *\n",
        "from pyspark.ml.feature import StringIndexer\n",
        "\n",
        "beats = beats.withColumn(\"class\", beats['class'].cast(StringType())) \n",
        "str_indxr = StringIndexer(inputCol=\"class\",outputCol='label')\n",
        "indexed = str_indxr.fit(beats).transform(beats)\n",
        "# indexed.groupBy('label').count().show()"
      ],
      "metadata": {
        "id": "koeZQXaXNE_q"
      },
      "execution_count": null,
      "outputs": []
    },
    {
      "cell_type": "code",
      "source": [
        "# beats.printSchema()"
      ],
      "metadata": {
        "id": "gv-y4t48OrPo"
      },
      "execution_count": null,
      "outputs": []
    },
    {
      "cell_type": "code",
      "source": [
        "# Data Prep function\n",
        "def MLClassifierDFPrep(df,input_columns,dependent_var,treat_outliers=True,treat_neg_values=True):\n",
        "    \n",
        "    # change label (class variable) to string type to prep for reindexing\n",
        "    # Pyspark is expecting a zero indexed integer for the label column. \n",
        "    # Just incase our data is not in that format... we will treat it by using the StringIndexer built in method\n",
        "    renamed = df.withColumn(\"label_str\", df[dependent_var].cast(StringType())) #Rename and change to string type\n",
        "    indexer = StringIndexer(inputCol=\"label_str\", outputCol=\"label\") #Pyspark is expecting the this naming convention \n",
        "    indexed = indexer.fit(renamed).transform(renamed)\n",
        "\n",
        "    # Convert all string type data in the input column list to numeric\n",
        "    # Otherwise the Algorithm will not be able to process it\n",
        "    numeric_inputs = []\n",
        "    string_inputs = []\n",
        "    for column in input_columns:\n",
        "        if str(indexed.schema[column].dataType) == 'StringType':\n",
        "            indexer = StringIndexer(inputCol=column, outputCol=column+\"_num\") \n",
        "            indexed = indexer.fit(indexed).transform(indexed)\n",
        "            new_col_name = column+\"_num\"\n",
        "            string_inputs.append(new_col_name)\n",
        "        else:\n",
        "            numeric_inputs.append(column)\n",
        "            \n",
        "    if treat_outliers == True:\n",
        "        print(\"We are correcting for non normality now!\")\n",
        "        # empty dictionary d\n",
        "        d = {}\n",
        "        # Create a dictionary of quantiles\n",
        "        for col in numeric_inputs: \n",
        "            d[col] = indexed.approxQuantile(col,[0.01,0.99],0.25) #if you want to make it go faster increase the last number\n",
        "        #Now fill in the values\n",
        "        for col in numeric_inputs:\n",
        "            skew = indexed.agg(skewness(indexed[col])).collect() #check for skewness\n",
        "            skew = skew[0][0]\n",
        "            # This function will floor, cap and then log+1 (just in case there are 0 values)\n",
        "            if skew > 1:\n",
        "                indexed = indexed.withColumn(col, \\\n",
        "                log(when(df[col] < d[col][0],d[col][0])\\\n",
        "                .when(indexed[col] > d[col][1], d[col][1])\\\n",
        "                .otherwise(indexed[col] ) +1).alias(col))\n",
        "                print(col+\" has been treated for positive (right) skewness. (skew =)\",skew,\")\")\n",
        "            elif skew < -1:\n",
        "                indexed = indexed.withColumn(col, \\\n",
        "                exp(when(df[col] < d[col][0],d[col][0])\\\n",
        "                .when(indexed[col] > d[col][1], d[col][1])\\\n",
        "                .otherwise(indexed[col] )).alias(col))\n",
        "                print(col+\" has been treated for negative (left) skewness. (skew =\",skew,\")\")\n",
        "\n",
        "            \n",
        "    # Produce a warning if there are negative values in the dataframe that Naive Bayes cannot be used. \n",
        "    # Note: we only need to check the numeric input values since anything that is indexed won't have negative values\n",
        "    minimums = df.select([min(c).alias(c) for c in df.columns if c in numeric_inputs]) # Calculate the mins for all columns in the df\n",
        "    min_array = minimums.select(array(numeric_inputs).alias(\"mins\")) # Create an array for all mins and select only the input cols\n",
        "    df_minimum = min_array.select(array_min(min_array.mins)).collect() # Collect golobal min as Python object\n",
        "    df_minimum = df_minimum[0][0] # Slice to get the number itself\n",
        "\n",
        "    features_list = numeric_inputs + string_inputs\n",
        "    assembler = VectorAssembler(inputCols=features_list,outputCol='features')\n",
        "    output = assembler.transform(indexed).select('features','label')\n",
        "\n",
        "#     final_data = output.select('features','label') #drop everything else\n",
        "    \n",
        "    # Now check for negative values and ask user if they want to correct that? \n",
        "    if df_minimum < 0:\n",
        "        print(\" \")\n",
        "        print(\"WARNING: The Naive Bayes Classifier will not be able to process your dataframe as it contains negative values\")\n",
        "        print(\" \")\n",
        "    \n",
        "    if treat_neg_values == True:\n",
        "        print(\"You have opted to correct that by rescaling all your features to a range of 0 to 1\")\n",
        "        print(\" \")\n",
        "        print(\"We are rescaling you dataframe....\")\n",
        "        scaler = MinMaxScaler(inputCol=\"features\", outputCol=\"scaledFeatures\")\n",
        "\n",
        "        # Compute summary statistics and generate MinMaxScalerModel\n",
        "        scalerModel = scaler.fit(output)\n",
        "\n",
        "        # rescale each feature to range [min, max].\n",
        "        scaled_data = scalerModel.transform(output)\n",
        "        final_data = scaled_data.select('label','scaledFeatures')\n",
        "        final_data = final_data.withColumnRenamed('scaledFeatures','features')\n",
        "        print(\"Done!\")\n",
        "\n",
        "    else:\n",
        "        print(\"You have opted not to correct that therefore you will not be able to use to Naive Bayes classifier\")\n",
        "        print(\"We will return the dataframe unscaled.\")\n",
        "        final_data = output\n",
        "    \n",
        "    return final_data"
      ],
      "metadata": {
        "id": "E3cHlyBKRcKq"
      },
      "execution_count": null,
      "outputs": []
    },
    {
      "cell_type": "code",
      "source": [
        "from pyspark.ml.feature import VectorAssembler\n",
        "from pyspark.sql.types import * \n",
        "from pyspark.sql.functions import *\n",
        "from pyspark.ml.feature import StringIndexer\n",
        "from pyspark.ml.feature import MinMaxScaler\n",
        "\n",
        "beats = beats.drop('_c0') # drop first column \n",
        "input_columns = beats.columns[1:-1]\n",
        "dependent_var = 'class'\n",
        "\n",
        "final_data = MLClassifierDFPrep(beats,input_columns,dependent_var)\n",
        "final_data.limit(5).toPandas()"
      ],
      "metadata": {
        "colab": {
          "base_uri": "https://localhost:8080/",
          "height": 796
        },
        "id": "DF7FKTlsYIq_",
        "outputId": "c1db3684-de51-41d4-af93-f0f959dcda27"
      },
      "execution_count": null,
      "outputs": [
        {
          "output_type": "stream",
          "name": "stdout",
          "text": [
            "We are correcting for non normality now!\n",
            "7-SpectralFluxm has been treated for positive (right) skewness. (skew =) 1.6396138160129063 )\n",
            "22-ChromaVector1m has been treated for positive (right) skewness. (skew =) 2.4162415204309258 )\n",
            "23-ChromaVector2m has been treated for positive (right) skewness. (skew =) 4.154796693680583 )\n",
            "24-ChromaVector3m has been treated for positive (right) skewness. (skew =) 1.1974019617504328 )\n",
            "25-ChromaVector4m has been treated for positive (right) skewness. (skew =) 2.446635863594906 )\n",
            "26-ChromaVector5m has been treated for positive (right) skewness. (skew =) 2.154482876187508 )\n",
            "27-ChromaVector6m has been treated for positive (right) skewness. (skew =) 2.01234064472543 )\n",
            "28-ChromaVector7m has been treated for positive (right) skewness. (skew =) 1.1829228989215521 )\n",
            "29-ChromaVector8m has been treated for positive (right) skewness. (skew =) 3.7372643733999955 )\n",
            "30-ChromaVector9m has been treated for positive (right) skewness. (skew =) 2.4117416421548645 )\n",
            "31-ChromaVector10m has been treated for positive (right) skewness. (skew =) 2.1979538518563233 )\n",
            "32-ChromaVector11m has been treated for positive (right) skewness. (skew =) 2.1924295373960554 )\n",
            "33-ChromaVector12m has been treated for positive (right) skewness. (skew =) 2.278981912155668 )\n",
            "41-SpectralFluxstd has been treated for positive (right) skewness. (skew =) 1.8577721462401056 )\n",
            "56-ChromaVector1std has been treated for positive (right) skewness. (skew =) 1.9111935514138085 )\n",
            "57-ChromaVector2std has been treated for positive (right) skewness. (skew =) 2.9078740765487394 )\n",
            "59-ChromaVector4std has been treated for positive (right) skewness. (skew =) 2.9677243313898827 )\n",
            "60-ChromaVector5std has been treated for positive (right) skewness. (skew =) 2.3681450229993315 )\n",
            "61-ChromaVector6std has been treated for positive (right) skewness. (skew =) 2.3950817653605396 )\n",
            "63-ChromaVector8std has been treated for positive (right) skewness. (skew =) 2.801578595136121 )\n",
            "64-ChromaVector9std has been treated for positive (right) skewness. (skew =) 1.7779798465610313 )\n",
            "65-ChromaVector10std has been treated for positive (right) skewness. (skew =) 1.9944501757850421 )\n",
            "66-ChromaVector11std has been treated for positive (right) skewness. (skew =) 1.1835182964170816 )\n",
            "67-ChromaVector12std has been treated for positive (right) skewness. (skew =) 2.087086908618814 )\n",
            "69-BPM has been treated for positive (right) skewness. (skew =) 2.9547734198613234 )\n",
            "70-BPMconf has been treated for positive (right) skewness. (skew =) 1.0889332324135428 )\n",
            " \n",
            "WARNING: The Naive Bayes Classifier will not be able to process your dataframe as it contains negative values\n",
            " \n",
            "You have opted to correct that by rescaling all your features to a range of 0 to 1\n",
            " \n",
            "We are rescaling you dataframe....\n",
            "Done!\n"
          ]
        },
        {
          "output_type": "execute_result",
          "data": {
            "text/plain": [
              "   label                                           features\n",
              "0    0.0  [0.30338998025826874, 0.8957733872366486, 0.61...\n",
              "1    0.0  [0.37399300906442695, 0.8816024910399278, 0.56...\n",
              "2    0.0  [0.44679648775095127, 0.7434979440255818, 0.46...\n",
              "3    0.0  [0.5860529526571694, 0.7966282209370411, 0.518...\n",
              "4    0.0  [0.5186704525553854, 0.8825805153845844, 0.725..."
            ],
            "text/html": [
              "\n",
              "  <div id=\"df-10cfdbc9-bb1b-443b-a7fe-ecd4a425407b\">\n",
              "    <div class=\"colab-df-container\">\n",
              "      <div>\n",
              "<style scoped>\n",
              "    .dataframe tbody tr th:only-of-type {\n",
              "        vertical-align: middle;\n",
              "    }\n",
              "\n",
              "    .dataframe tbody tr th {\n",
              "        vertical-align: top;\n",
              "    }\n",
              "\n",
              "    .dataframe thead th {\n",
              "        text-align: right;\n",
              "    }\n",
              "</style>\n",
              "<table border=\"1\" class=\"dataframe\">\n",
              "  <thead>\n",
              "    <tr style=\"text-align: right;\">\n",
              "      <th></th>\n",
              "      <th>label</th>\n",
              "      <th>features</th>\n",
              "    </tr>\n",
              "  </thead>\n",
              "  <tbody>\n",
              "    <tr>\n",
              "      <th>0</th>\n",
              "      <td>0.0</td>\n",
              "      <td>[0.30338998025826874, 0.8957733872366486, 0.61...</td>\n",
              "    </tr>\n",
              "    <tr>\n",
              "      <th>1</th>\n",
              "      <td>0.0</td>\n",
              "      <td>[0.37399300906442695, 0.8816024910399278, 0.56...</td>\n",
              "    </tr>\n",
              "    <tr>\n",
              "      <th>2</th>\n",
              "      <td>0.0</td>\n",
              "      <td>[0.44679648775095127, 0.7434979440255818, 0.46...</td>\n",
              "    </tr>\n",
              "    <tr>\n",
              "      <th>3</th>\n",
              "      <td>0.0</td>\n",
              "      <td>[0.5860529526571694, 0.7966282209370411, 0.518...</td>\n",
              "    </tr>\n",
              "    <tr>\n",
              "      <th>4</th>\n",
              "      <td>0.0</td>\n",
              "      <td>[0.5186704525553854, 0.8825805153845844, 0.725...</td>\n",
              "    </tr>\n",
              "  </tbody>\n",
              "</table>\n",
              "</div>\n",
              "      <button class=\"colab-df-convert\" onclick=\"convertToInteractive('df-10cfdbc9-bb1b-443b-a7fe-ecd4a425407b')\"\n",
              "              title=\"Convert this dataframe to an interactive table.\"\n",
              "              style=\"display:none;\">\n",
              "        \n",
              "  <svg xmlns=\"http://www.w3.org/2000/svg\" height=\"24px\"viewBox=\"0 0 24 24\"\n",
              "       width=\"24px\">\n",
              "    <path d=\"M0 0h24v24H0V0z\" fill=\"none\"/>\n",
              "    <path d=\"M18.56 5.44l.94 2.06.94-2.06 2.06-.94-2.06-.94-.94-2.06-.94 2.06-2.06.94zm-11 1L8.5 8.5l.94-2.06 2.06-.94-2.06-.94L8.5 2.5l-.94 2.06-2.06.94zm10 10l.94 2.06.94-2.06 2.06-.94-2.06-.94-.94-2.06-.94 2.06-2.06.94z\"/><path d=\"M17.41 7.96l-1.37-1.37c-.4-.4-.92-.59-1.43-.59-.52 0-1.04.2-1.43.59L10.3 9.45l-7.72 7.72c-.78.78-.78 2.05 0 2.83L4 21.41c.39.39.9.59 1.41.59.51 0 1.02-.2 1.41-.59l7.78-7.78 2.81-2.81c.8-.78.8-2.07 0-2.86zM5.41 20L4 18.59l7.72-7.72 1.47 1.35L5.41 20z\"/>\n",
              "  </svg>\n",
              "      </button>\n",
              "      \n",
              "  <style>\n",
              "    .colab-df-container {\n",
              "      display:flex;\n",
              "      flex-wrap:wrap;\n",
              "      gap: 12px;\n",
              "    }\n",
              "\n",
              "    .colab-df-convert {\n",
              "      background-color: #E8F0FE;\n",
              "      border: none;\n",
              "      border-radius: 50%;\n",
              "      cursor: pointer;\n",
              "      display: none;\n",
              "      fill: #1967D2;\n",
              "      height: 32px;\n",
              "      padding: 0 0 0 0;\n",
              "      width: 32px;\n",
              "    }\n",
              "\n",
              "    .colab-df-convert:hover {\n",
              "      background-color: #E2EBFA;\n",
              "      box-shadow: 0px 1px 2px rgba(60, 64, 67, 0.3), 0px 1px 3px 1px rgba(60, 64, 67, 0.15);\n",
              "      fill: #174EA6;\n",
              "    }\n",
              "\n",
              "    [theme=dark] .colab-df-convert {\n",
              "      background-color: #3B4455;\n",
              "      fill: #D2E3FC;\n",
              "    }\n",
              "\n",
              "    [theme=dark] .colab-df-convert:hover {\n",
              "      background-color: #434B5C;\n",
              "      box-shadow: 0px 1px 3px 1px rgba(0, 0, 0, 0.15);\n",
              "      filter: drop-shadow(0px 1px 2px rgba(0, 0, 0, 0.3));\n",
              "      fill: #FFFFFF;\n",
              "    }\n",
              "  </style>\n",
              "\n",
              "      <script>\n",
              "        const buttonEl =\n",
              "          document.querySelector('#df-10cfdbc9-bb1b-443b-a7fe-ecd4a425407b button.colab-df-convert');\n",
              "        buttonEl.style.display =\n",
              "          google.colab.kernel.accessAllowed ? 'block' : 'none';\n",
              "\n",
              "        async function convertToInteractive(key) {\n",
              "          const element = document.querySelector('#df-10cfdbc9-bb1b-443b-a7fe-ecd4a425407b');\n",
              "          const dataTable =\n",
              "            await google.colab.kernel.invokeFunction('convertToInteractive',\n",
              "                                                     [key], {});\n",
              "          if (!dataTable) return;\n",
              "\n",
              "          const docLinkHtml = 'Like what you see? Visit the ' +\n",
              "            '<a target=\"_blank\" href=https://colab.research.google.com/notebooks/data_table.ipynb>data table notebook</a>'\n",
              "            + ' to learn more about interactive tables.';\n",
              "          element.innerHTML = '';\n",
              "          dataTable['output_type'] = 'display_data';\n",
              "          await google.colab.output.renderOutput(dataTable, element);\n",
              "          const docLink = document.createElement('div');\n",
              "          docLink.innerHTML = docLinkHtml;\n",
              "          element.appendChild(docLink);\n",
              "        }\n",
              "      </script>\n",
              "    </div>\n",
              "  </div>\n",
              "  "
            ]
          },
          "metadata": {},
          "execution_count": 10
        }
      ]
    },
    {
      "cell_type": "code",
      "source": [],
      "metadata": {
        "id": "Ap3ttPKDGqyc"
      },
      "execution_count": null,
      "outputs": []
    },
    {
      "cell_type": "markdown",
      "source": [
        "# Features Selection"
      ],
      "metadata": {
        "id": "efw9ldEEci1e"
      }
    },
    {
      "cell_type": "code",
      "source": [
        "from pyspark.ml.feature import VectorSlicer\n",
        "from pyspark.ml.linalg import Vectors\n",
        "from pyspark.sql.types import Row\n",
        "\n",
        "slicer = VectorSlicer(inputCol=\"features\", outputCol=\"selectedfeatures\", indices=[1])\n",
        "\n",
        "output = slicer.transform(final_data)\n",
        "\n",
        "output.select(\"features\",\"selectedfeatures\").show()"
      ],
      "metadata": {
        "colab": {
          "base_uri": "https://localhost:8080/"
        },
        "id": "Y0hux06NZVsX",
        "outputId": "12aeb6ae-ce73-4a57-b536-0edff52b4bf5"
      },
      "execution_count": null,
      "outputs": [
        {
          "output_type": "stream",
          "name": "stdout",
          "text": [
            "+--------------------+--------------------+\n",
            "|            features|    selectedfeatures|\n",
            "+--------------------+--------------------+\n",
            "|[0.30338998025826...|[0.8957733872366486]|\n",
            "|[0.37399300906442...|[0.8816024910399278]|\n",
            "|[0.44679648775095...|[0.7434979440255818]|\n",
            "|[0.58605295265716...|[0.7966282209370411]|\n",
            "|[0.51867045255538...|[0.8825805153845844]|\n",
            "|[0.53704862759740...|[0.9366879335151957]|\n",
            "|[0.36610043340353...|[0.8301498598791096]|\n",
            "|[0.28833375902182...|[0.7913885661814694]|\n",
            "|[0.51348937539023...|[0.8596386312593476]|\n",
            "|[0.44188100301752...|[0.7311306494555135]|\n",
            "|[0.56945373664701...|[0.9640035330681084]|\n",
            "|[0.37538743054984...|[0.9590443978826131]|\n",
            "|[0.59208221389722...|[0.7820484079296268]|\n",
            "|[0.49602450451477...| [0.864391463449406]|\n",
            "|[0.44102406047498...|[0.8260906140727508]|\n",
            "|[0.30292002346477...|[0.8267150246079552]|\n",
            "|[0.40585185504418...|[0.8113030840888685]|\n",
            "|[0.42819003402878...|[0.8293505384319086]|\n",
            "|[0.36745630460104...|[0.8428873788795865]|\n",
            "|[0.47253668468282...|[0.8336434393038585]|\n",
            "+--------------------+--------------------+\n",
            "only showing top 20 rows\n",
            "\n"
          ]
        }
      ]
    },
    {
      "cell_type": "markdown",
      "source": [
        "# Test and Train split"
      ],
      "metadata": {
        "id": "DcfAyvEhcxVj"
      }
    },
    {
      "cell_type": "code",
      "source": [
        "train,test = output.randomSplit([0.7,0.3])"
      ],
      "metadata": {
        "id": "BAswVZ1IchvT"
      },
      "execution_count": null,
      "outputs": []
    },
    {
      "cell_type": "markdown",
      "source": [
        "# Model Training "
      ],
      "metadata": {
        "id": "utItbhaqeAnT"
      }
    },
    {
      "cell_type": "code",
      "source": [
        "from pyspark.ml.classification import *\n",
        "classifier = LogisticRegression()\n",
        "fitModel = classifier.fit(train)"
      ],
      "metadata": {
        "id": "s-5xeN_1cOlN"
      },
      "execution_count": null,
      "outputs": []
    },
    {
      "cell_type": "code",
      "source": [
        "from pyspark.ml.evaluation import *\n",
        "\n",
        "predictionAndLabels = fitModel.transform(test)\n",
        "# predictionAndLabels = predictionAndLabels.predictions.select('label','prediction')\n",
        "Bin_evaluator = BinaryClassificationEvaluator(rawPredictionCol='prediction') #labelCol='label'\n",
        "auc = Bin_evaluator.evaluate(predictionAndLabels)\n",
        "print(\"AUC:\",auc)\n",
        "\n",
        "predictions = fitModel.transform(test)\n",
        "MC_evaluator = MulticlassClassificationEvaluator(metricName=\"accuracy\") # redictionCol=\"prediction\",\n",
        "accuracy = (MC_evaluator.evaluate(predictions))*100\n",
        "print(\"Accuracy: {0:.2f}\".format(accuracy),\"%\") #     print(\"Test Error = %g \" % (1.0 - accuracy))\n",
        "print(\" \")"
      ],
      "metadata": {
        "colab": {
          "base_uri": "https://localhost:8080/"
        },
        "id": "YpU7_4B1cYZo",
        "outputId": "161c4a0b-6f62-4b79-b57c-ae2f86baa129"
      },
      "execution_count": null,
      "outputs": [
        {
          "output_type": "stream",
          "name": "stdout",
          "text": [
            "AUC: 0.6631138975966562\n",
            "Accuracy: 40.78 %\n",
            " \n"
          ]
        }
      ]
    },
    {
      "cell_type": "code",
      "source": [
        "from pyspark.ml.classification import LogisticRegression\n",
        "from pyspark.ml.tuning import CrossValidator, ParamGridBuilder\n",
        "# First tell Spark which classifier you want to use\n",
        "classifier = LogisticRegression() # if label column nor nemed as 'label', Must clarify labelCol='otherName'\n",
        "\n",
        "# Then Set up your parameter grid for the cross validator to conduct hyperparameter tuning\n",
        "paramGrid = (ParamGridBuilder().addGrid(classifier.maxIter, [10, 15,20]).build())\n",
        "\n",
        "# Then set up the Cross Validator which requires all of the following parameters:\n",
        "crossval = CrossValidator(estimator=classifier,\n",
        "                          estimatorParamMaps=paramGrid,\n",
        "                          evaluator=MC_evaluator,\n",
        "                          numFolds=2) # 3 + is best practice\n",
        "\n",
        "# Then fit your model\n",
        "fitModel = crossval.fit(train)\n",
        "\n",
        "# Collect the best model and\n",
        "# print the coefficient matrix\n",
        "# These values should be compared relative to eachother\n",
        "# And intercepts can be prepared to other models\n",
        "BestModel = fitModel.bestModel\n",
        "print(\"Intercept: \" + str(BestModel.interceptVector))\n",
        "print(\"Coefficients: \\n\" + str(BestModel.coefficientMatrix))\n",
        "\n",
        "# You can extract the best model from this run like this if you want\n",
        "LR_BestModel = BestModel\n",
        "\n",
        "# Next you need to generate predictions on the test dataset\n",
        "# fitModel automatically uses the best model \n",
        "# so we don't need to use BestModel here\n",
        "predictions = fitModel.transform(test)\n",
        "\n",
        "# Now print the accuracy rate of the model or AUC for a binary classifier\n",
        "accuracy = (MC_evaluator.evaluate(predictions))*100\n",
        "print(accuracy)"
      ],
      "metadata": {
        "colab": {
          "base_uri": "https://localhost:8080/"
        },
        "id": "k-uKg55AePIl",
        "outputId": "acaaae0a-9157-4228-abde-0940c31adeed"
      },
      "execution_count": null,
      "outputs": [
        {
          "output_type": "stream",
          "name": "stdout",
          "text": [
            "Intercept: [-5.8246097394931144,2.143038716420355,-9.851664388302217,6.575159204983032,-1.9846042934564279,-5.541668848322515,-5.002297766169326,19.027938590111148,-6.91367397192708,-6.513653178418401,-2.626919398304925,-3.2232572188289836,19.30872102398721,-0.2260748703482572,-9.636478700694278,-2.7483136523041978,5.446921194125121,3.6818488425556595,4.348708896400585,-3.8332345908257466,1.8841117740095963,2.9434836330775997,-1.4334812582748337]\n",
            "Coefficients: \n",
            "DenseMatrix([[ 4.31765631,  2.15559297,  0.94167009, ..., -5.39701384,\n",
            "              -1.30066709,  3.43281318],\n",
            "             [ 0.45787351,  2.25012623,  0.98992156, ...,  8.20584453,\n",
            "              -8.67235361,  4.95465408],\n",
            "             [-0.51917709,  5.38938598, -0.68156953, ..., -3.96097015,\n",
            "               1.67525223, -2.85286866],\n",
            "             ...,\n",
            "             [-1.63015071, -0.87202127,  0.24679571, ..., -4.93867331,\n",
            "               1.07628384,  2.32934222],\n",
            "             [-1.67841431, -1.49300649,  0.08354119, ..., -3.64987087,\n",
            "               2.54891705,  1.51319165],\n",
            "             [-2.54446333,  1.77309771,  1.27479764, ..., -2.22083993,\n",
            "               2.39042366,  3.23774275]])\n",
            "45.573294629898406\n"
          ]
        }
      ]
    },
    {
      "cell_type": "markdown",
      "source": [
        "* Multilayer precepron classifier gave the best accuracy"
      ],
      "metadata": {
        "id": "lEJjHC4QODxY"
      }
    },
    {
      "cell_type": "markdown",
      "source": [
        "# Multilayer Perceptron Classifier"
      ],
      "metadata": {
        "id": "TZW_BoQahdKP"
      }
    },
    {
      "cell_type": "code",
      "source": [
        "# Count how many features you have\n",
        "features = final_data.select(['features']).limit(1).collect()\n",
        "features_count = len(features[0][0])\n",
        "# Count how many classes you have \n",
        "class_count = final_data.select(countDistinct(\"label\")).limit(1).collect()\n",
        "classes = class_count[0][0]"
      ],
      "metadata": {
        "id": "I5FPQ2xLfNXE"
      },
      "execution_count": null,
      "outputs": []
    },
    {
      "cell_type": "code",
      "source": [
        "print(features_count)\n",
        "print(classes)"
      ],
      "metadata": {
        "colab": {
          "base_uri": "https://localhost:8080/"
        },
        "id": "vVGkBm2JhPma",
        "outputId": "79510b6e-e625-49f4-8509-a33d8e56f7b2"
      },
      "execution_count": null,
      "outputs": [
        {
          "output_type": "stream",
          "name": "stdout",
          "text": [
            "70\n",
            "23\n"
          ]
        }
      ]
    },
    {
      "cell_type": "code",
      "source": [
        "from pyspark.ml.evaluation import *\n",
        "from pyspark.ml.evaluation import MulticlassClassificationEvaluator\n",
        "MC_evaluator = MulticlassClassificationEvaluator(metricName=\"accuracy\")\n",
        "\n",
        "layers = [features_count, features_count+1, features_count, classes]\n",
        "# Instaniate the classifier\n",
        "classifier = MultilayerPerceptronClassifier(maxIter=200, layers=layers, blockSize=128, seed=1234)\n",
        "\n",
        "# Fit the model\n",
        "fitModel = classifier.fit(train)\n",
        "\n",
        "# Print the model Weights\n",
        "print('\\033[1m' + \"Model Weights: \"+ '\\033[0m',fitModel.weights.size)\n",
        "   \n",
        "# Generate predictions on test dataframe\n",
        "predictions = fitModel.transform(test)\n",
        "# Calculate accuracy score\n",
        "accuracy = (MC_evaluator.evaluate(predictions))*100\n",
        "# Print accuracy score\n",
        "print(\"Accuracy: \",accuracy)"
      ],
      "metadata": {
        "colab": {
          "base_uri": "https://localhost:8080/"
        },
        "id": "fOSD16BWhR_8",
        "outputId": "52b38b6a-0a9c-4f79-deaf-dfed2a7d6f26"
      },
      "execution_count": null,
      "outputs": [
        {
          "output_type": "stream",
          "name": "stdout",
          "text": [
            "\u001b[1mModel Weights: \u001b[0m 11714\n",
            "Accuracy:  45.42815674891146\n"
          ]
        }
      ]
    }
  ],
  "metadata": {
    "kernelspec": {
      "display_name": "Python 3 (ipykernel)",
      "language": "python",
      "name": "python3"
    },
    "language_info": {
      "codemirror_mode": {
        "name": "ipython",
        "version": 3
      },
      "file_extension": ".py",
      "mimetype": "text/x-python",
      "name": "python",
      "nbconvert_exporter": "python",
      "pygments_lexer": "ipython3",
      "version": "3.10.8"
    },
    "colab": {
      "provenance": [],
      "include_colab_link": true
    }
  },
  "nbformat": 4,
  "nbformat_minor": 0
}